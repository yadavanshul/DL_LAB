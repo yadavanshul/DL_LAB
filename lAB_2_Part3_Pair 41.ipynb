{
 "cells": [
  {
   "cell_type": "code",
   "execution_count": null,
   "metadata": {
    "id": "pCiTU4Vs6L0e"
   },
   "outputs": [],
   "source": []
  },
  {
   "cell_type": "markdown",
   "metadata": {},
   "source": [
    "# 1. Install Necessary Libraries"
   ]
  },
  {
   "cell_type": "code",
   "execution_count": 1,
   "metadata": {
    "colab": {
     "base_uri": "https://localhost:8080/"
    },
    "id": "k0GoCjKp6Ojt",
    "outputId": "edf0de5c-b154-49d3-a03e-dd5a3d974322"
   },
   "outputs": [
    {
     "name": "stdout",
     "output_type": "stream",
     "text": [
      "Requirement already satisfied: langchain in /usr/local/lib/python3.10/dist-packages (0.3.7)\n",
      "Requirement already satisfied: PyYAML>=5.3 in /usr/local/lib/python3.10/dist-packages (from langchain) (6.0.2)\n",
      "Requirement already satisfied: SQLAlchemy<3,>=1.4 in /usr/local/lib/python3.10/dist-packages (from langchain) (2.0.36)\n",
      "Requirement already satisfied: aiohttp<4.0.0,>=3.8.3 in /usr/local/lib/python3.10/dist-packages (from langchain) (3.11.2)\n",
      "Requirement already satisfied: async-timeout<5.0.0,>=4.0.0 in /usr/local/lib/python3.10/dist-packages (from langchain) (4.0.3)\n",
      "Requirement already satisfied: langchain-core<0.4.0,>=0.3.15 in /usr/local/lib/python3.10/dist-packages (from langchain) (0.3.19)\n",
      "Requirement already satisfied: langchain-text-splitters<0.4.0,>=0.3.0 in /usr/local/lib/python3.10/dist-packages (from langchain) (0.3.2)\n",
      "Requirement already satisfied: langsmith<0.2.0,>=0.1.17 in /usr/local/lib/python3.10/dist-packages (from langchain) (0.1.143)\n",
      "Requirement already satisfied: numpy<2,>=1 in /usr/local/lib/python3.10/dist-packages (from langchain) (1.26.4)\n",
      "Requirement already satisfied: pydantic<3.0.0,>=2.7.4 in /usr/local/lib/python3.10/dist-packages (from langchain) (2.9.2)\n",
      "Requirement already satisfied: requests<3,>=2 in /usr/local/lib/python3.10/dist-packages (from langchain) (2.32.3)\n",
      "Requirement already satisfied: tenacity!=8.4.0,<10,>=8.1.0 in /usr/local/lib/python3.10/dist-packages (from langchain) (9.0.0)\n",
      "Requirement already satisfied: aiohappyeyeballs>=2.3.0 in /usr/local/lib/python3.10/dist-packages (from aiohttp<4.0.0,>=3.8.3->langchain) (2.4.3)\n",
      "Requirement already satisfied: aiosignal>=1.1.2 in /usr/local/lib/python3.10/dist-packages (from aiohttp<4.0.0,>=3.8.3->langchain) (1.3.1)\n",
      "Requirement already satisfied: attrs>=17.3.0 in /usr/local/lib/python3.10/dist-packages (from aiohttp<4.0.0,>=3.8.3->langchain) (24.2.0)\n",
      "Requirement already satisfied: frozenlist>=1.1.1 in /usr/local/lib/python3.10/dist-packages (from aiohttp<4.0.0,>=3.8.3->langchain) (1.5.0)\n",
      "Requirement already satisfied: multidict<7.0,>=4.5 in /usr/local/lib/python3.10/dist-packages (from aiohttp<4.0.0,>=3.8.3->langchain) (6.1.0)\n",
      "Requirement already satisfied: propcache>=0.2.0 in /usr/local/lib/python3.10/dist-packages (from aiohttp<4.0.0,>=3.8.3->langchain) (0.2.0)\n",
      "Requirement already satisfied: yarl<2.0,>=1.17.0 in /usr/local/lib/python3.10/dist-packages (from aiohttp<4.0.0,>=3.8.3->langchain) (1.17.2)\n",
      "Requirement already satisfied: jsonpatch<2.0,>=1.33 in /usr/local/lib/python3.10/dist-packages (from langchain-core<0.4.0,>=0.3.15->langchain) (1.33)\n",
      "Requirement already satisfied: packaging<25,>=23.2 in /usr/local/lib/python3.10/dist-packages (from langchain-core<0.4.0,>=0.3.15->langchain) (24.2)\n",
      "Requirement already satisfied: typing-extensions>=4.7 in /usr/local/lib/python3.10/dist-packages (from langchain-core<0.4.0,>=0.3.15->langchain) (4.12.2)\n",
      "Requirement already satisfied: httpx<1,>=0.23.0 in /usr/local/lib/python3.10/dist-packages (from langsmith<0.2.0,>=0.1.17->langchain) (0.27.2)\n",
      "Requirement already satisfied: orjson<4.0.0,>=3.9.14 in /usr/local/lib/python3.10/dist-packages (from langsmith<0.2.0,>=0.1.17->langchain) (3.10.11)\n",
      "Requirement already satisfied: requests-toolbelt<2.0.0,>=1.0.0 in /usr/local/lib/python3.10/dist-packages (from langsmith<0.2.0,>=0.1.17->langchain) (1.0.0)\n",
      "Requirement already satisfied: annotated-types>=0.6.0 in /usr/local/lib/python3.10/dist-packages (from pydantic<3.0.0,>=2.7.4->langchain) (0.7.0)\n",
      "Requirement already satisfied: pydantic-core==2.23.4 in /usr/local/lib/python3.10/dist-packages (from pydantic<3.0.0,>=2.7.4->langchain) (2.23.4)\n",
      "Requirement already satisfied: charset-normalizer<4,>=2 in /usr/local/lib/python3.10/dist-packages (from requests<3,>=2->langchain) (3.4.0)\n",
      "Requirement already satisfied: idna<4,>=2.5 in /usr/local/lib/python3.10/dist-packages (from requests<3,>=2->langchain) (3.10)\n",
      "Requirement already satisfied: urllib3<3,>=1.21.1 in /usr/local/lib/python3.10/dist-packages (from requests<3,>=2->langchain) (2.2.3)\n",
      "Requirement already satisfied: certifi>=2017.4.17 in /usr/local/lib/python3.10/dist-packages (from requests<3,>=2->langchain) (2024.8.30)\n",
      "Requirement already satisfied: greenlet!=0.4.17 in /usr/local/lib/python3.10/dist-packages (from SQLAlchemy<3,>=1.4->langchain) (3.1.1)\n",
      "Requirement already satisfied: anyio in /usr/local/lib/python3.10/dist-packages (from httpx<1,>=0.23.0->langsmith<0.2.0,>=0.1.17->langchain) (3.7.1)\n",
      "Requirement already satisfied: httpcore==1.* in /usr/local/lib/python3.10/dist-packages (from httpx<1,>=0.23.0->langsmith<0.2.0,>=0.1.17->langchain) (1.0.7)\n",
      "Requirement already satisfied: sniffio in /usr/local/lib/python3.10/dist-packages (from httpx<1,>=0.23.0->langsmith<0.2.0,>=0.1.17->langchain) (1.3.1)\n",
      "Requirement already satisfied: h11<0.15,>=0.13 in /usr/local/lib/python3.10/dist-packages (from httpcore==1.*->httpx<1,>=0.23.0->langsmith<0.2.0,>=0.1.17->langchain) (0.14.0)\n",
      "Requirement already satisfied: jsonpointer>=1.9 in /usr/local/lib/python3.10/dist-packages (from jsonpatch<2.0,>=1.33->langchain-core<0.4.0,>=0.3.15->langchain) (3.0.0)\n",
      "Requirement already satisfied: exceptiongroup in /usr/local/lib/python3.10/dist-packages (from anyio->httpx<1,>=0.23.0->langsmith<0.2.0,>=0.1.17->langchain) (1.2.2)\n",
      "Collecting pypdf\n",
      "  Downloading pypdf-5.1.0-py3-none-any.whl.metadata (7.2 kB)\n",
      "Requirement already satisfied: typing_extensions>=4.0 in /usr/local/lib/python3.10/dist-packages (from pypdf) (4.12.2)\n",
      "Downloading pypdf-5.1.0-py3-none-any.whl (297 kB)\n",
      "\u001b[2K   \u001b[90m━━━━━━━━━━━━━━━━━━━━━━━━━━━━━━━━━━━━━━━━\u001b[0m \u001b[32m298.0/298.0 kB\u001b[0m \u001b[31m5.2 MB/s\u001b[0m eta \u001b[36m0:00:00\u001b[0m\n",
      "\u001b[?25hInstalling collected packages: pypdf\n",
      "Successfully installed pypdf-5.1.0\n",
      "Requirement already satisfied: openai in /usr/local/lib/python3.10/dist-packages (1.54.4)\n",
      "Requirement already satisfied: anyio<5,>=3.5.0 in /usr/local/lib/python3.10/dist-packages (from openai) (3.7.1)\n",
      "Requirement already satisfied: distro<2,>=1.7.0 in /usr/local/lib/python3.10/dist-packages (from openai) (1.9.0)\n",
      "Requirement already satisfied: httpx<1,>=0.23.0 in /usr/local/lib/python3.10/dist-packages (from openai) (0.27.2)\n",
      "Requirement already satisfied: jiter<1,>=0.4.0 in /usr/local/lib/python3.10/dist-packages (from openai) (0.7.1)\n",
      "Requirement already satisfied: pydantic<3,>=1.9.0 in /usr/local/lib/python3.10/dist-packages (from openai) (2.9.2)\n",
      "Requirement already satisfied: sniffio in /usr/local/lib/python3.10/dist-packages (from openai) (1.3.1)\n",
      "Requirement already satisfied: tqdm>4 in /usr/local/lib/python3.10/dist-packages (from openai) (4.66.6)\n",
      "Requirement already satisfied: typing-extensions<5,>=4.11 in /usr/local/lib/python3.10/dist-packages (from openai) (4.12.2)\n",
      "Requirement already satisfied: idna>=2.8 in /usr/local/lib/python3.10/dist-packages (from anyio<5,>=3.5.0->openai) (3.10)\n",
      "Requirement already satisfied: exceptiongroup in /usr/local/lib/python3.10/dist-packages (from anyio<5,>=3.5.0->openai) (1.2.2)\n",
      "Requirement already satisfied: certifi in /usr/local/lib/python3.10/dist-packages (from httpx<1,>=0.23.0->openai) (2024.8.30)\n",
      "Requirement already satisfied: httpcore==1.* in /usr/local/lib/python3.10/dist-packages (from httpx<1,>=0.23.0->openai) (1.0.7)\n",
      "Requirement already satisfied: h11<0.15,>=0.13 in /usr/local/lib/python3.10/dist-packages (from httpcore==1.*->httpx<1,>=0.23.0->openai) (0.14.0)\n",
      "Requirement already satisfied: annotated-types>=0.6.0 in /usr/local/lib/python3.10/dist-packages (from pydantic<3,>=1.9.0->openai) (0.7.0)\n",
      "Requirement already satisfied: pydantic-core==2.23.4 in /usr/local/lib/python3.10/dist-packages (from pydantic<3,>=1.9.0->openai) (2.23.4)\n",
      "Collecting faiss-cpu\n",
      "  Downloading faiss_cpu-1.9.0.post1-cp310-cp310-manylinux_2_17_x86_64.manylinux2014_x86_64.whl.metadata (4.4 kB)\n",
      "Requirement already satisfied: numpy<3.0,>=1.25.0 in /usr/local/lib/python3.10/dist-packages (from faiss-cpu) (1.26.4)\n",
      "Requirement already satisfied: packaging in /usr/local/lib/python3.10/dist-packages (from faiss-cpu) (24.2)\n",
      "Downloading faiss_cpu-1.9.0.post1-cp310-cp310-manylinux_2_17_x86_64.manylinux2014_x86_64.whl (27.5 MB)\n",
      "\u001b[2K   \u001b[90m━━━━━━━━━━━━━━━━━━━━━━━━━━━━━━━━━━━━━━━━\u001b[0m \u001b[32m27.5/27.5 MB\u001b[0m \u001b[31m61.4 MB/s\u001b[0m eta \u001b[36m0:00:00\u001b[0m\n",
      "\u001b[?25hInstalling collected packages: faiss-cpu\n",
      "Successfully installed faiss-cpu-1.9.0.post1\n",
      "Collecting tiktoken\n",
      "  Downloading tiktoken-0.8.0-cp310-cp310-manylinux_2_17_x86_64.manylinux2014_x86_64.whl.metadata (6.6 kB)\n",
      "Requirement already satisfied: regex>=2022.1.18 in /usr/local/lib/python3.10/dist-packages (from tiktoken) (2024.9.11)\n",
      "Requirement already satisfied: requests>=2.26.0 in /usr/local/lib/python3.10/dist-packages (from tiktoken) (2.32.3)\n",
      "Requirement already satisfied: charset-normalizer<4,>=2 in /usr/local/lib/python3.10/dist-packages (from requests>=2.26.0->tiktoken) (3.4.0)\n",
      "Requirement already satisfied: idna<4,>=2.5 in /usr/local/lib/python3.10/dist-packages (from requests>=2.26.0->tiktoken) (3.10)\n",
      "Requirement already satisfied: urllib3<3,>=1.21.1 in /usr/local/lib/python3.10/dist-packages (from requests>=2.26.0->tiktoken) (2.2.3)\n",
      "Requirement already satisfied: certifi>=2017.4.17 in /usr/local/lib/python3.10/dist-packages (from requests>=2.26.0->tiktoken) (2024.8.30)\n",
      "Downloading tiktoken-0.8.0-cp310-cp310-manylinux_2_17_x86_64.manylinux2014_x86_64.whl (1.2 MB)\n",
      "\u001b[2K   \u001b[90m━━━━━━━━━━━━━━━━━━━━━━━━━━━━━━━━━━━━━━━━\u001b[0m \u001b[32m1.2/1.2 MB\u001b[0m \u001b[31m14.1 MB/s\u001b[0m eta \u001b[36m0:00:00\u001b[0m\n",
      "\u001b[?25hInstalling collected packages: tiktoken\n",
      "Successfully installed tiktoken-0.8.0\n",
      "Collecting rouge-score\n",
      "  Downloading rouge_score-0.1.2.tar.gz (17 kB)\n",
      "  Preparing metadata (setup.py) ... \u001b[?25l\u001b[?25hdone\n",
      "Requirement already satisfied: absl-py in /usr/local/lib/python3.10/dist-packages (from rouge-score) (1.4.0)\n",
      "Requirement already satisfied: nltk in /usr/local/lib/python3.10/dist-packages (from rouge-score) (3.9.1)\n",
      "Requirement already satisfied: numpy in /usr/local/lib/python3.10/dist-packages (from rouge-score) (1.26.4)\n",
      "Requirement already satisfied: six>=1.14.0 in /usr/local/lib/python3.10/dist-packages (from rouge-score) (1.16.0)\n",
      "Requirement already satisfied: click in /usr/local/lib/python3.10/dist-packages (from nltk->rouge-score) (8.1.7)\n",
      "Requirement already satisfied: joblib in /usr/local/lib/python3.10/dist-packages (from nltk->rouge-score) (1.4.2)\n",
      "Requirement already satisfied: regex>=2021.8.3 in /usr/local/lib/python3.10/dist-packages (from nltk->rouge-score) (2024.9.11)\n",
      "Requirement already satisfied: tqdm in /usr/local/lib/python3.10/dist-packages (from nltk->rouge-score) (4.66.6)\n",
      "Building wheels for collected packages: rouge-score\n",
      "  Building wheel for rouge-score (setup.py) ... \u001b[?25l\u001b[?25hdone\n",
      "  Created wheel for rouge-score: filename=rouge_score-0.1.2-py3-none-any.whl size=24935 sha256=43051a59dbdc7a5a6678e8a4482b55a0130a70cf5dab91a7eabd56a2607e3682\n",
      "  Stored in directory: /root/.cache/pip/wheels/5f/dd/89/461065a73be61a532ff8599a28e9beef17985c9e9c31e541b4\n",
      "Successfully built rouge-score\n",
      "Installing collected packages: rouge-score\n",
      "Successfully installed rouge-score-0.1.2\n"
     ]
    }
   ],
   "source": [
    "!pip install langchain\n",
    "!pip install pypdf\n",
    "!pip install openai\n",
    "!pip install faiss-cpu\n",
    "!pip install tiktoken\n",
    "!pip install rouge-score"
   ]
  },
  {
   "cell_type": "code",
   "execution_count": 3,
   "metadata": {
    "colab": {
     "base_uri": "https://localhost:8080/"
    },
    "id": "r0aJfWjP7gtD",
    "outputId": "95d382d8-9beb-4ec5-8e95-a523c1c205f5"
   },
   "outputs": [
    {
     "name": "stdout",
     "output_type": "stream",
     "text": [
      "Collecting langchain-community\n",
      "  Downloading langchain_community-0.3.9-py3-none-any.whl.metadata (2.9 kB)\n",
      "Requirement already satisfied: PyYAML>=5.3 in /usr/local/lib/python3.10/dist-packages (from langchain-community) (6.0.2)\n",
      "Requirement already satisfied: SQLAlchemy<3,>=1.4 in /usr/local/lib/python3.10/dist-packages (from langchain-community) (2.0.36)\n",
      "Requirement already satisfied: aiohttp<4.0.0,>=3.8.3 in /usr/local/lib/python3.10/dist-packages (from langchain-community) (3.11.2)\n",
      "Collecting dataclasses-json<0.7,>=0.5.7 (from langchain-community)\n",
      "  Downloading dataclasses_json-0.6.7-py3-none-any.whl.metadata (25 kB)\n",
      "Collecting httpx-sse<0.5.0,>=0.4.0 (from langchain-community)\n",
      "  Downloading httpx_sse-0.4.0-py3-none-any.whl.metadata (9.0 kB)\n",
      "Collecting langchain<0.4.0,>=0.3.8 (from langchain-community)\n",
      "  Downloading langchain-0.3.9-py3-none-any.whl.metadata (7.1 kB)\n",
      "Collecting langchain-core<0.4.0,>=0.3.21 (from langchain-community)\n",
      "  Downloading langchain_core-0.3.21-py3-none-any.whl.metadata (6.3 kB)\n",
      "Requirement already satisfied: langsmith<0.2.0,>=0.1.125 in /usr/local/lib/python3.10/dist-packages (from langchain-community) (0.1.143)\n",
      "Requirement already satisfied: numpy<2,>=1.22.4 in /usr/local/lib/python3.10/dist-packages (from langchain-community) (1.26.4)\n",
      "Collecting pydantic-settings<3.0.0,>=2.4.0 (from langchain-community)\n",
      "  Downloading pydantic_settings-2.6.1-py3-none-any.whl.metadata (3.5 kB)\n",
      "Requirement already satisfied: requests<3,>=2 in /usr/local/lib/python3.10/dist-packages (from langchain-community) (2.32.3)\n",
      "Requirement already satisfied: tenacity!=8.4.0,<10,>=8.1.0 in /usr/local/lib/python3.10/dist-packages (from langchain-community) (9.0.0)\n",
      "Requirement already satisfied: aiohappyeyeballs>=2.3.0 in /usr/local/lib/python3.10/dist-packages (from aiohttp<4.0.0,>=3.8.3->langchain-community) (2.4.3)\n",
      "Requirement already satisfied: aiosignal>=1.1.2 in /usr/local/lib/python3.10/dist-packages (from aiohttp<4.0.0,>=3.8.3->langchain-community) (1.3.1)\n",
      "Requirement already satisfied: attrs>=17.3.0 in /usr/local/lib/python3.10/dist-packages (from aiohttp<4.0.0,>=3.8.3->langchain-community) (24.2.0)\n",
      "Requirement already satisfied: frozenlist>=1.1.1 in /usr/local/lib/python3.10/dist-packages (from aiohttp<4.0.0,>=3.8.3->langchain-community) (1.5.0)\n",
      "Requirement already satisfied: multidict<7.0,>=4.5 in /usr/local/lib/python3.10/dist-packages (from aiohttp<4.0.0,>=3.8.3->langchain-community) (6.1.0)\n",
      "Requirement already satisfied: propcache>=0.2.0 in /usr/local/lib/python3.10/dist-packages (from aiohttp<4.0.0,>=3.8.3->langchain-community) (0.2.0)\n",
      "Requirement already satisfied: yarl<2.0,>=1.17.0 in /usr/local/lib/python3.10/dist-packages (from aiohttp<4.0.0,>=3.8.3->langchain-community) (1.17.2)\n",
      "Requirement already satisfied: async-timeout<6.0,>=4.0 in /usr/local/lib/python3.10/dist-packages (from aiohttp<4.0.0,>=3.8.3->langchain-community) (4.0.3)\n",
      "Collecting marshmallow<4.0.0,>=3.18.0 (from dataclasses-json<0.7,>=0.5.7->langchain-community)\n",
      "  Downloading marshmallow-3.23.1-py3-none-any.whl.metadata (7.5 kB)\n",
      "Collecting typing-inspect<1,>=0.4.0 (from dataclasses-json<0.7,>=0.5.7->langchain-community)\n",
      "  Downloading typing_inspect-0.9.0-py3-none-any.whl.metadata (1.5 kB)\n",
      "Requirement already satisfied: langchain-text-splitters<0.4.0,>=0.3.0 in /usr/local/lib/python3.10/dist-packages (from langchain<0.4.0,>=0.3.8->langchain-community) (0.3.2)\n",
      "Requirement already satisfied: pydantic<3.0.0,>=2.7.4 in /usr/local/lib/python3.10/dist-packages (from langchain<0.4.0,>=0.3.8->langchain-community) (2.9.2)\n",
      "Requirement already satisfied: jsonpatch<2.0,>=1.33 in /usr/local/lib/python3.10/dist-packages (from langchain-core<0.4.0,>=0.3.21->langchain-community) (1.33)\n",
      "Requirement already satisfied: packaging<25,>=23.2 in /usr/local/lib/python3.10/dist-packages (from langchain-core<0.4.0,>=0.3.21->langchain-community) (24.2)\n",
      "Requirement already satisfied: typing-extensions>=4.7 in /usr/local/lib/python3.10/dist-packages (from langchain-core<0.4.0,>=0.3.21->langchain-community) (4.12.2)\n",
      "Requirement already satisfied: httpx<1,>=0.23.0 in /usr/local/lib/python3.10/dist-packages (from langsmith<0.2.0,>=0.1.125->langchain-community) (0.27.2)\n",
      "Requirement already satisfied: orjson<4.0.0,>=3.9.14 in /usr/local/lib/python3.10/dist-packages (from langsmith<0.2.0,>=0.1.125->langchain-community) (3.10.11)\n",
      "Requirement already satisfied: requests-toolbelt<2.0.0,>=1.0.0 in /usr/local/lib/python3.10/dist-packages (from langsmith<0.2.0,>=0.1.125->langchain-community) (1.0.0)\n",
      "Collecting python-dotenv>=0.21.0 (from pydantic-settings<3.0.0,>=2.4.0->langchain-community)\n",
      "  Downloading python_dotenv-1.0.1-py3-none-any.whl.metadata (23 kB)\n",
      "Requirement already satisfied: charset-normalizer<4,>=2 in /usr/local/lib/python3.10/dist-packages (from requests<3,>=2->langchain-community) (3.4.0)\n",
      "Requirement already satisfied: idna<4,>=2.5 in /usr/local/lib/python3.10/dist-packages (from requests<3,>=2->langchain-community) (3.10)\n",
      "Requirement already satisfied: urllib3<3,>=1.21.1 in /usr/local/lib/python3.10/dist-packages (from requests<3,>=2->langchain-community) (2.2.3)\n",
      "Requirement already satisfied: certifi>=2017.4.17 in /usr/local/lib/python3.10/dist-packages (from requests<3,>=2->langchain-community) (2024.8.30)\n",
      "Requirement already satisfied: greenlet!=0.4.17 in /usr/local/lib/python3.10/dist-packages (from SQLAlchemy<3,>=1.4->langchain-community) (3.1.1)\n",
      "Requirement already satisfied: anyio in /usr/local/lib/python3.10/dist-packages (from httpx<1,>=0.23.0->langsmith<0.2.0,>=0.1.125->langchain-community) (3.7.1)\n",
      "Requirement already satisfied: httpcore==1.* in /usr/local/lib/python3.10/dist-packages (from httpx<1,>=0.23.0->langsmith<0.2.0,>=0.1.125->langchain-community) (1.0.7)\n",
      "Requirement already satisfied: sniffio in /usr/local/lib/python3.10/dist-packages (from httpx<1,>=0.23.0->langsmith<0.2.0,>=0.1.125->langchain-community) (1.3.1)\n",
      "Requirement already satisfied: h11<0.15,>=0.13 in /usr/local/lib/python3.10/dist-packages (from httpcore==1.*->httpx<1,>=0.23.0->langsmith<0.2.0,>=0.1.125->langchain-community) (0.14.0)\n",
      "Requirement already satisfied: jsonpointer>=1.9 in /usr/local/lib/python3.10/dist-packages (from jsonpatch<2.0,>=1.33->langchain-core<0.4.0,>=0.3.21->langchain-community) (3.0.0)\n",
      "Requirement already satisfied: annotated-types>=0.6.0 in /usr/local/lib/python3.10/dist-packages (from pydantic<3.0.0,>=2.7.4->langchain<0.4.0,>=0.3.8->langchain-community) (0.7.0)\n",
      "Requirement already satisfied: pydantic-core==2.23.4 in /usr/local/lib/python3.10/dist-packages (from pydantic<3.0.0,>=2.7.4->langchain<0.4.0,>=0.3.8->langchain-community) (2.23.4)\n",
      "Collecting mypy-extensions>=0.3.0 (from typing-inspect<1,>=0.4.0->dataclasses-json<0.7,>=0.5.7->langchain-community)\n",
      "  Downloading mypy_extensions-1.0.0-py3-none-any.whl.metadata (1.1 kB)\n",
      "Requirement already satisfied: exceptiongroup in /usr/local/lib/python3.10/dist-packages (from anyio->httpx<1,>=0.23.0->langsmith<0.2.0,>=0.1.125->langchain-community) (1.2.2)\n",
      "Downloading langchain_community-0.3.9-py3-none-any.whl (2.4 MB)\n",
      "\u001b[2K   \u001b[90m━━━━━━━━━━━━━━━━━━━━━━━━━━━━━━━━━━━━━━━━\u001b[0m \u001b[32m2.4/2.4 MB\u001b[0m \u001b[31m34.0 MB/s\u001b[0m eta \u001b[36m0:00:00\u001b[0m\n",
      "\u001b[?25hDownloading dataclasses_json-0.6.7-py3-none-any.whl (28 kB)\n",
      "Downloading httpx_sse-0.4.0-py3-none-any.whl (7.8 kB)\n",
      "Downloading langchain-0.3.9-py3-none-any.whl (1.0 MB)\n",
      "\u001b[2K   \u001b[90m━━━━━━━━━━━━━━━━━━━━━━━━━━━━━━━━━━━━━━━━\u001b[0m \u001b[32m1.0/1.0 MB\u001b[0m \u001b[31m44.9 MB/s\u001b[0m eta \u001b[36m0:00:00\u001b[0m\n",
      "\u001b[?25hDownloading langchain_core-0.3.21-py3-none-any.whl (409 kB)\n",
      "\u001b[2K   \u001b[90m━━━━━━━━━━━━━━━━━━━━━━━━━━━━━━━━━━━━━━━━\u001b[0m \u001b[32m409.5/409.5 kB\u001b[0m \u001b[31m27.7 MB/s\u001b[0m eta \u001b[36m0:00:00\u001b[0m\n",
      "\u001b[?25hDownloading pydantic_settings-2.6.1-py3-none-any.whl (28 kB)\n",
      "Downloading marshmallow-3.23.1-py3-none-any.whl (49 kB)\n",
      "\u001b[2K   \u001b[90m━━━━━━━━━━━━━━━━━━━━━━━━━━━━━━━━━━━━━━━━\u001b[0m \u001b[32m49.5/49.5 kB\u001b[0m \u001b[31m3.9 MB/s\u001b[0m eta \u001b[36m0:00:00\u001b[0m\n",
      "\u001b[?25hDownloading python_dotenv-1.0.1-py3-none-any.whl (19 kB)\n",
      "Downloading typing_inspect-0.9.0-py3-none-any.whl (8.8 kB)\n",
      "Downloading mypy_extensions-1.0.0-py3-none-any.whl (4.7 kB)\n",
      "Installing collected packages: python-dotenv, mypy-extensions, marshmallow, httpx-sse, typing-inspect, pydantic-settings, dataclasses-json, langchain-core, langchain, langchain-community\n",
      "  Attempting uninstall: langchain-core\n",
      "    Found existing installation: langchain-core 0.3.19\n",
      "    Uninstalling langchain-core-0.3.19:\n",
      "      Successfully uninstalled langchain-core-0.3.19\n",
      "  Attempting uninstall: langchain\n",
      "    Found existing installation: langchain 0.3.7\n",
      "    Uninstalling langchain-0.3.7:\n",
      "      Successfully uninstalled langchain-0.3.7\n",
      "Successfully installed dataclasses-json-0.6.7 httpx-sse-0.4.0 langchain-0.3.9 langchain-community-0.3.9 langchain-core-0.3.21 marshmallow-3.23.1 mypy-extensions-1.0.0 pydantic-settings-2.6.1 python-dotenv-1.0.1 typing-inspect-0.9.0\n"
     ]
    }
   ],
   "source": [
    "!pip install -U langchain-community"
   ]
  },
  {
   "cell_type": "markdown",
   "metadata": {},
   "source": [
    "# 2: Load necessary libraries"
   ]
  },
  {
   "cell_type": "code",
   "execution_count": null,
   "metadata": {
    "id": "IrBOD2-76Og4"
   },
   "outputs": [],
   "source": [
    "\n",
    "from pypdf import PdfReader\n",
    "from langchain.text_splitter import CharacterTextSplitter\n",
    "from langchain.embeddings.openai import OpenAIEmbeddings\n",
    "from langchain.vectorstores import FAISS\n",
    "from langchain.chains import RetrievalQA\n",
    "from langchain.llms import OpenAI\n",
    "from langchain.prompts import PromptTemplate\n",
    "from rouge_score import rouge_scorer\n"
   ]
  },
  {
   "cell_type": "markdown",
   "metadata": {},
   "source": [
    "# 3. Load and read PDF"
   ]
  },
  {
   "cell_type": "code",
   "execution_count": null,
   "metadata": {
    "colab": {
     "base_uri": "https://localhost:8080/"
    },
    "id": "qZ5oB8JE6RHr",
    "outputId": "90586f4f-eb12-41b5-842d-0808610d1993"
   },
   "outputs": [
    {
     "name": "stdout",
     "output_type": "stream",
     "text": [
      "PDF content loaded.\n"
     ]
    }
   ],
   "source": [
    "pdf_path = 'Part3.pdf'\n",
    "\n",
    "# Read PDF content\n",
    "pdf_reader = PdfReader(pdf_path)\n",
    "text = \"\"\n",
    "for page in pdf_reader.pages:\n",
    "    text += page.extract_text()\n",
    "\n",
    "print(\"PDF content loaded.\")\n"
   ]
  },
  {
   "cell_type": "markdown",
   "metadata": {},
   "source": [
    "# 4: Split text into chunks"
   ]
  },
  {
   "cell_type": "code",
   "execution_count": null,
   "metadata": {
    "colab": {
     "base_uri": "https://localhost:8080/"
    },
    "id": "tsCt3sbo6UTn",
    "outputId": "ce34b182-4ad8-4164-a731-7ca974a05fe9"
   },
   "outputs": [
    {
     "name": "stdout",
     "output_type": "stream",
     "text": [
      "Split PDF content into 105 chunks.\n"
     ]
    },
    {
     "data": {
      "text/plain": [
       "['NEWS RELEASE\\nMeta Reports Fourth Quarter and Full Year 2023Results; Initiates Quarterly Dividend\\nMENLO PARK, Calif., Feb. 1, 2024 /PRNewswire/ -- Meta Platforms, Inc. (Nasdaq: META) today reported \\x00nancial\\nresults for the quarter and full year ended December 31, 2023.',\n",
       " '\"We had a good quarter as our community and business continue to grow,\" said Mark Zuckerberg, Meta founder\\nand CEO. \"We\\'ve made a lot of progress on our vision for advancing AI and the metaverse.\"\\xa0\\n\\xa0\\nFourth Quarter and Full Year 2023 Financial Highlights\\n Three Months Ended December 31, \\n\\xa0% Change',\n",
       " 'Three Months Ended December 31, \\n\\xa0% Change\\n Twelve Months Ended December 31, \\n% ChangeIn millions, except percentages and per\\xa0share amounts \\xa0 \\xa0\\xa02023 2022  2023 2022  \\nRevenue $ 40,111 $ 32,165 25\\xa0% $ 134,902 $ 116,609 16\\xa0%\\nCosts and expenses 23,727  25,766 (8)\\xa0%  88,151  87,665 1\\xa0%',\n",
       " 'Income from operations$ 16,384 $ 6,399 156\\xa0% $ 46,751 $ 28,944 62\\xa0%\\nOperating margin 41\\xa0%  20\\xa0%    35\\xa0%  25\\xa0%  \\nProvision for income taxes$ 2,791 $ 1,497 86\\xa0% $ 8,330 $ 5,619 48\\xa0%\\nE\\x00ective tax rate  17\\xa0%  24\\xa0%    18\\xa0%  19\\xa0%  \\nNet income $ 14,017 $ 4,652 201\\xa0% $ 39,098 $ 23,200 69\\xa0%',\n",
       " 'Diluted earnings per share (EPS)$ 5.33 $ 1.76 203\\xa0% $ 14.87 $ 8.59 73\\xa0%\\n\\xa0\\nFourth Quarter and Full Year 2023 Operational and Other Financial Highlights\\nFamily daily active people (DAP) – DAP was 3.19 billion on average for December 2023, an increase of 8% year-\\nover-year.',\n",
       " 'over-year.\\nFamily monthly active people (MAP) – MAP was 3.98 billion as of December 31, 2023, an increase of 6% year-\\nover-year.\\nFacebook daily active users (DAUs) – DAUs were 2.11 billion on average for December 2023, an increase of 6%\\nyear-over-year.',\n",
       " 'year-over-year.\\nFacebook monthly active users (MAUs) – MAUs were 3.07 billion as of December 31, 2023, an increase of 3%\\nyear-over-year.\\nAd impressions and price per ad – In the fourth quarter of 2023, ad impressions delivered across our Family',\n",
       " 'of Apps increased by 21% year-over-year and the average price per ad increased by 2% year-over-year. For\\nthe full year 2023, ad impressions increased by 28% year-over-year and the average price per ad decreased\\nby 9% year-over-year.',\n",
       " 'by 9% year-over-year.\\nRevenue – Revenue was $40.11 billion and $134.90 billion, an increase of 25% and 16% year-over-year for the\\nfourth quarter and full year 2023, respectively. Had foreign exchange rates remained constant with the same',\n",
       " 'periods of 2022, revenue would have been $816 million and $374 million lower, an increase of 22% and 15%\\non a constant currency basis for the fourth quarter and full year 2023, respectively.\\n1Costs and expenses – Total costs and expenses were $23.73 billion and $88.15 billion for the fourth quarter',\n",
       " 'and full year 2023, a decrease of 8% and an increase of 1% year-over-year, respectively. Restructuring charges\\nincluded in costs and expenses were $1.15 billion and $3.45 billion for the fourth quarter and full year 2023,\\nrespectively.',\n",
       " 'respectively.\\nCapital expenditures – Capital expenditures, including principal payments on \\x00nance leases, were $7.90\\nbillion and $28.10 billion for the fourth quarter and full year 2023, respectively.',\n",
       " 'Share repurchases – We repurchased $6.32 billion and $20.03 billion of our Class A common stock in the\\nfourth quarter and full year 2023, respectively. As of December 31, 2023, we had $30.93 billion available and',\n",
       " 'authorized for repurchases. We also announced a $50 billion increase in our share repurchase authorization\\ntoday.\\nCash, cash equivalents, and marketable securities – Cash, cash equivalents, and marketable securities were',\n",
       " '$65.40 billion as of December 31, 2023. Free cash \\x00ow was $11.50 billion and $43.01 billion for the fourth\\nquarter and full year 2023, respectively.\\nLong-term debt – Long-term debt was $18.39 billion as of December 31, 2023.',\n",
       " \"Headcount – Headcount was 67,317 as of December 31, 2023, a decrease of 22% year-over-year.\\nMeta Initiates Quarterly Dividend\\nToday, Meta's board of directors declared a cash dividend of $0.50 per share of our outstanding common stock\",\n",
       " '(including both Class A common stock and Class B common stock), payable on March 26, 2024 to stockholders of\\nrecord as of the close of business on February 22, 2024. We intend to pay a cash dividend on a quarterly basis going',\n",
       " 'forward, subject to market conditions and approval by our board of directors.\\nRestructuring\\nBeginning in 2022, we initiated several measures to pursue greater e\\x00ciency and to realign our business and',\n",
       " 'strategic priorities. As of December 31, 2023, we have completed the data center initiatives and the employee\\nlayo\\x00s, and substantially completed the facilities consolidation initiatives.\\nA summary of our restructuring charges, including subsequent adjustments, for the three and twelve months',\n",
       " 'ended December\\xa031, 2023\\xa0by major activity type is as follows (in\\xa0millions):\\n Three Months Ended December 31, 2023 Twelve Months Ended December 31, 2023 \\n Facilities  Consolidation \\nSeverance  and Other  Personnel Costs Data Center  Assets Total\\xa0 Facilities  Consolidation',\n",
       " 'Severance  and Other  Personnel  Costs Data Center Assets Total\\xa0 \\nCost of revenue$\\xa0 \\xa0 \\xa0 \\xa0 \\xa0 \\xa0 \\xa0 \\xa0 \\xa086 $\\xa0 \\xa0 \\xa0 \\xa0 \\xa0 \\xa0 \\xa0 — $\\xa0 \\xa0 \\xa0 \\xa0 \\xa0 \\xa0 \\xa0 \\xa0 7 $\\xa0 \\xa0 \\xa0 \\xa0 \\xa0 \\xa0 \\xa0 93 $\\xa0 \\xa0 \\xa0 \\xa0 \\xa0 \\xa0 \\xa0 \\xa0177 $\\xa0 \\xa0 \\xa0 \\xa0 \\xa0 \\xa0 \\xa0 \\xa0— $\\xa0 \\xa0 \\xa0 \\xa0 \\xa0 (224) $\\xa0 \\xa0 \\xa0 \\xa0 \\xa0 \\xa0 \\xa0(47) \\nResearch and development710 28 — 738 1,581 413 — 1,994',\n",
       " 'Marketing and sales162 16 — 178 396 307 — 703 \\nGeneral and administrative \\xa0 \\xa0\\xa0142 (3) — 139 352 450 — 802 \\nTotal $\\xa0 \\xa0 \\xa0 \\xa0 \\xa0 \\xa0 1,100 $\\xa0 \\xa0 \\xa0 \\xa0 \\xa0 \\xa0 \\xa0 41 $\\xa0 \\xa0 \\xa0 \\xa0 \\xa0 \\xa0 \\xa0 \\xa0 7 $\\xa0 \\xa0 \\xa0 \\xa0 \\xa01,148 $\\xa0 \\xa0 \\xa0 \\xa0 \\xa0 \\xa0 2,506 $\\xa0 \\xa0 \\xa0 \\xa0 \\xa0 1,170 $\\xa0 \\xa0 \\xa0 \\xa0 \\xa0 (224) $\\xa0 \\xa0 \\xa0 \\xa0 \\xa03,452',\n",
       " 'During the three and twelve months ended December 31, 2022, we recorded total restructuring charges of $4.20\\nbillion and $4.61 billion, respectively.\\nCFO Outlook Commentary\\nWe expect \\x00rst quarter 2024 total revenue to be in the range of $34.5-37 billion. Our guidance assumes foreign',\n",
       " 'currency is neutral to year-over-year total revenue growth, based on current exchange rates.\\nWe expect full-year 2024 total expenses to be in the range of $94-99 billion, unchanged from our prior outlook. We\\n2continue to expect a few factors to be drivers of total expense growth in 2024:',\n",
       " 'First, we expect higher infrastructure-related costs this year. Given our increased capital investments in\\nrecent years, we expect depreciation expenses in 2024 to increase by a larger amount than in 2023. We also',\n",
       " 'expect to incur higher operating costs from running a larger infrastructure footprint.  \\nSecond, we anticipate growth in payroll expenses as we\\xa0work down our current hiring\\xa0underrun and add\\nincremental talent to support priority areas in 2024, which we expect will further shift our workforce',\n",
       " 'composition toward higher-cost technical roles.\\xa0  \\nFinally, for Reality Labs, we expect operating losses to increase meaningfully year-over-year due to our\\nongoing product development e\\x00orts in augmented reality/virtual reality and our investments to further scale\\nour ecosystem.',\n",
       " 'our ecosystem.\\nWe anticipate our full-year 2024 capital expenditures will be in the range of $30-37 billion, a $2 billion increase of\\nthe high end of our prior range. We expect growth will be driven by investments in servers, including both AI and',\n",
       " 'non-AI hardware, and data centers as we ramp up construction on sites with our previously announced new data\\ncenter architecture. Our updated outlook re\\x00ects our evolving understanding of our arti\\x00cial intelligence (AI)',\n",
       " 'capacity demands as we anticipate what we may need for the next generations of foundational research and\\nproduct development. While we are not providing guidance for years beyond 2024, we expect our ambitious long-',\n",
       " 'term AI research and product development e\\x00orts will require growing infrastructure investments beyond this\\nyear.\\nAbsent any changes to U.S. tax law, we expect our full-year 2024 tax rate to be in the mid-teens.',\n",
       " 'In addition, we continue to monitor the active regulatory landscape, including the increasing legal and regulatory\\nheadwinds in the EU and the U.S. that could signi\\x00cantly impact our business and our \\x00nancial results. Of note, the',\n",
       " 'Federal Trade Commission is seeking to substantially modify our existing consent order and impose additional\\nrestrictions on our ability to operate. We are contesting this matter, but if we are unsuccessful it would have an\\nadverse impact on our business.',\n",
       " 'adverse impact on our business.\\nThis was a pivotal year for our company. We increased our operating discipline, delivered strong execution across\\nour product priorities, and improved advertising performance for the businesses who rely on our services. We will',\n",
       " 'look to build on our progress in each of those areas in 2024 while advancing our ambitious, longer-term e\\x00orts in\\nAI and Reality Labs.\\nWebcast and Conference Call Information\\nMeta will host a conference call to discuss the results at 1:30 p.m. PT / 4:30 p.m. ET today. The live webcast of',\n",
       " \"Meta's earnings conference call can be accessed at investor.fb.com, along with the earnings press release, \\x00nancial\\ntables, and slide presentation. Meta uses the investor.fb.com and about.fb.com/news/ websites as well as Mark\",\n",
       " \"Zuckerberg's Facebook Page (facebook.com/zuck), Instagram account (instagram.com/zuck) and Threads pro\\x00le\\n(threads.net/zuck) as means of disclosing material non-public information and for complying with its disclosure\\nobligations under Regulation FD.\",\n",
       " 'obligations under Regulation FD.\\nFollowing the call, a replay will be available at the same website. A telephonic replay will be available for one week\\nfollowing the conference call at +1 (800) 770-2030 or +1 (647) 362-9199, conference ID 8032328.',\n",
       " 'Transcripts of conference calls with publishing equity research analysts held today will also be posted to the\\ninvestor.fb.com website.\\nAbout Meta\\n3Meta builds technologies that help people connect, \\x00nd communities, and grow businesses. When Facebook',\n",
       " 'launched in 2004, it changed the way people connect. Apps like Messenger, Instagram, and WhatsApp further\\nempowered billions around the world. Now, Meta is moving beyond 2D screens toward immersive experiences like\\naugmented and virtual reality to help build the next evolution in social technology.',\n",
       " 'Contacts\\nInvestors: Kenneth Dorell investor@meta.com\\xa0/ investor.fb.com\\nPress: Ryan Moore press@meta.com\\xa0/ about.fb.com/news/\\nForward-Looking Statements\\nThis press release contains forward-looking statements regarding our future business plans and expectations.',\n",
       " 'These forward-looking statements are only predictions and may di\\x00er materially from actual results due to a variety\\nof factors including: the impact of macroeconomic conditions on our business and \\x00nancial results, including as a',\n",
       " 'result of geopolitical events; our ability to retain or increase users and engagement levels; our reliance on\\nadvertising revenue; our dependency on data signals and mobile operating systems, networks, and standards that',\n",
       " 'we do not control; changes to the content or application of third-party policies that impact our advertising\\npractices; risks associated with new products and changes to existing products as well as other new business',\n",
       " 'initiatives, including our metaverse e\\x00orts; our emphasis on community growth and engagement and the user\\nexperience over short-term \\x00nancial results; maintaining and enhancing our brand and reputation; our ongoing',\n",
       " 'privacy, safety, security, and content review e\\x00orts; competition; risks associated with government actions that\\ncould restrict access to our products or impair our ability to sell advertising in certain countries; litigation and',\n",
       " 'government inquiries; privacy, legislative, and regulatory concerns or developments; risks associated with\\nacquisitions; security breaches; our ability to manage our scale and geographically-dispersed operations; and',\n",
       " 'market conditions or other factors a\\x00ecting the payment of dividends. These and other potential risks and\\nuncertainties that could cause actual results to di\\x00er from the results predicted are more fully detailed under the',\n",
       " 'caption \"Risk Factors\" in our Quarterly Report on Form 10-Q \\x00led with the SEC on October\\xa026, 2023, which is\\navailable on our Investor Relations website at investor.fb.com and on the SEC website at www.sec.gov. Additional',\n",
       " 'information will also be set forth in our Annual Report on Form 10-K for the year ended December 31, 2023. In\\naddition, please note that the date of this press release is February 1, 2024, and any forward-looking statements',\n",
       " 'contained herein are based on assumptions that we believe to be reasonable as of this date. We undertake no\\nobligation to update these statements as a result of new information or future events.',\n",
       " 'For a discussion of limitations in the measurement of certain of our community metrics, see the section entitled\\n\"Limitations of Key Metrics and Other Data\" in our most recent quarterly or annual report \\x00led with the SEC.\\nNon-GAAP Financial Measures',\n",
       " 'Non-GAAP Financial Measures\\xa0\\nTo supplement our condensed consolidated \\x00nancial statements, which are prepared and presented in accordance\\nwith generally accepted accounting principles in the United States (GAAP), we use the following non-GAAP \\x00nancial',\n",
       " 'measures: revenue excluding foreign exchange e\\x00ect, advertising revenue excluding foreign exchange e\\x00ect, and\\nfree cash \\x00ow. The presentation of these \\x00nancial measures is not intended to be considered in isolation or as a',\n",
       " 'substitute for, or superior to, \\x00nancial information prepared and presented in accordance with GAAP. Investors are\\ncautioned that there are material limitations associated with the use of non-GAAP \\x00nancial measures as an',\n",
       " '4analytical tool. In addition, these measures may be di\\x00erent from non-GAAP \\x00nancial measures used by other\\ncompanies, limiting their usefulness for comparison purposes. We compensate for these limitations by providing',\n",
       " 'speci\\x00c information regarding the GAAP amounts excluded from these non-GAAP \\x00nancial measures.\\nWe believe these non-GAAP \\x00nancial measures provide investors with useful supplemental information about the',\n",
       " '\\x00nancial performance of our business, enable comparison of \\x00nancial results between periods where certain items\\nmay vary independent of business performance, and allow for greater transparency with respect to key metrics\\nused by management in operating our business.',\n",
       " 'used by management in operating our business.\\nWe exclude the following items from our non-GAAP \\x00nancial measures:\\nForeign exchange e\\x00ect on revenue. We translated revenue for the three months and full year ended December 31,',\n",
       " \"2023 using the prior year's monthly exchange rates for our settlement or billing currencies other than the U.S.\\ndollar, which we believe is a useful metric that facilitates comparison to our historical performance.\",\n",
       " 'Purchases of property and equipment; Principal payments on \\x00nance leases. We subtract both purchases of\\nproperty and equipment, net of proceeds and principal payments on \\x00nance leases in our calculation of free cash',\n",
       " '\\x00ow because we believe that these two items collectively represent the amount of property and equipment we\\nneed to procure to support our business, regardless of whether we procure such property or equipment with a',\n",
       " '\\x00nance lease. We believe that this methodology can provide useful supplemental information to help investors\\nbetter understand underlying trends in our business. Free cash \\x00ow is not intended to represent our residual cash\\n\\x00ow available for discretionary expenditures.',\n",
       " '\\x00ow available for discretionary expenditures.\\nFor more information on our non-GAAP \\x00nancial measures and a reconciliation of GAAP to non-GAAP measures,\\nplease see the \"Reconciliation of GAAP to Non-GAAP Results\" table in this press release.',\n",
       " 'META PLATFORMS, INC.CONDENSED CONSOLIDATED STATEMENTS OF INCOME(In millions, except per share amounts)(Unaudited)\\n \\n \\n Three Months Ended December 31, Twelve Months Ended December 31, \\n 2023 2022 2023 2022 \\nRevenue $\\xa0 \\xa0 \\xa0 \\xa0 \\xa0 \\xa0 40,111 $\\xa0 \\xa0 \\xa0 \\xa0 \\xa0 \\xa0 32,165 $\\xa0 \\xa0 \\xa0 \\xa0 \\xa0 134,902 $\\xa0 \\xa0 \\xa0 \\xa0 \\xa0 116,609',\n",
       " 'Costs and expenses:         \\nCost of revenue 7,695 8,336 25,959 25,249 \\nResearch and development 10,517 9,771 38,483 35,338 \\nMarketing and sales 3,226 4,574 12,301 15,262 \\nGeneral and administrative 2,289 3,085 11,408 11,816 \\nTotal costs and expenses23,727 25,766 88,151 87,665',\n",
       " 'Income from operations 16,384 6,399 46,751 28,944 \\nInterest and other income (expense), net424 (250) 677 (125) \\nIncome before provision for income taxes16,808 6,149 47,428 28,819 \\nProvision for income taxes 2,791 1,497 8,330 5,619',\n",
       " 'Net income $\\xa0 \\xa0 \\xa0 \\xa0 \\xa0 \\xa0 14,017 $\\xa0\\xa0\\xa0\\xa0\\xa0\\xa0\\xa0\\xa0\\xa0\\xa0\\xa0\\xa0\\xa0 4,652 $\\xa0 \\xa0 \\xa0 \\xa0 \\xa0 \\xa0 39,098 $\\xa0 \\xa0 \\xa0 \\xa0 \\xa0 \\xa0 23,200 \\nEarnings per share attributable to Class A and Class B\\xa0 common stockholders:         \\nBasic $\\xa0\\xa0\\xa0\\xa0\\xa0\\xa0\\xa0\\xa0\\xa0\\xa0\\xa0\\xa0\\xa0\\xa0\\xa0 5.46 $\\xa0\\xa0\\xa0\\xa0\\xa0\\xa0\\xa0\\xa0\\xa0\\xa0\\xa0\\xa0\\xa0\\xa0\\xa0 1.76 $\\xa0\\xa0\\xa0\\xa0\\xa0\\xa0\\xa0\\xa0\\xa0\\xa0\\xa0\\xa0\\xa0 15.19 $\\xa0\\xa0\\xa0\\xa0\\xa0\\xa0\\xa0\\xa0\\xa0\\xa0\\xa0\\xa0\\xa0\\xa0\\xa0 8.63',\n",
       " 'Diluted $\\xa0\\xa0\\xa0\\xa0\\xa0\\xa0\\xa0\\xa0\\xa0\\xa0\\xa0\\xa0\\xa0\\xa0\\xa0 5.33 $\\xa0\\xa0\\xa0\\xa0\\xa0\\xa0\\xa0\\xa0\\xa0\\xa0\\xa0\\xa0\\xa0\\xa0\\xa0 1.76 $\\xa0\\xa0\\xa0\\xa0\\xa0\\xa0\\xa0\\xa0\\xa0\\xa0\\xa0\\xa0\\xa0 14.87 $\\xa0\\xa0\\xa0\\xa0\\xa0\\xa0\\xa0\\xa0\\xa0\\xa0\\xa0\\xa0\\xa0\\xa0\\xa0 8.59 \\nWeighted-average shares used to compute earnings per\\xa0 \\xa0 \\xa0 \\xa0 \\xa0 \\xa0 \\xa0 \\xa0 \\xa0 \\xa0 \\xa0 \\xa0 \\xa0 \\xa0 \\xa0 \\xa0 \\xa0 \\xa0 \\xa0 share attributable to Class A and Class B common \\xa0 \\xa0 \\xa0 \\xa0 \\xa0 \\xa0 \\xa0\\xa0 stockholders:',\n",
       " 'Basic 2,566 2,638 2,574 2,687 \\nDiluted 2,630 2,640 2,629 2,702 \\n\\xa0\\n5META PLATFORMS, INC.CONDENSED CONSOLIDATED BALANCE SHEETS(In millions)(Unaudited)\\n December 31, 2023 December 31, 2022 \\nAssets     \\nCurrent assets:     \\nCash and cash equivalents $\\xa0\\xa0\\xa0\\xa0\\xa0\\xa0\\xa0\\xa0\\xa0\\xa0\\xa0\\xa0\\xa0\\xa0\\xa0\\xa0\\xa0 41,862 $\\xa0\\xa0\\xa0\\xa0\\xa0\\xa0\\xa0\\xa0\\xa0\\xa0\\xa0\\xa0\\xa0\\xa0\\xa0\\xa0\\xa0 14,681',\n",
       " 'Marketable securities 23,541 26,057 \\nAccounts receivable, net 16,169 13,466 \\nPrepaid expenses and other current assets3,793 5,345 \\nTotal current assets 85,365 59,549 \\nNon-marketable equity securities 6,141 6,201 \\nProperty and equipment, net 96,587 79,518',\n",
       " \"Property and equipment, net 96,587 79,518 \\nOperating lease right-of-use assets 13,294 12,673 \\nIntangible assets, net 788 897 \\nGoodwill 20,654 20,306 \\nOther assets 6,794 6,583 \\nTotal assets $\\xa0\\xa0\\xa0\\xa0\\xa0\\xa0\\xa0\\xa0\\xa0\\xa0\\xa0\\xa0\\xa0\\xa0\\xa0 229,623 $\\xa0\\xa0\\xa0\\xa0\\xa0\\xa0\\xa0\\xa0\\xa0\\xa0\\xa0\\xa0\\xa0\\xa0\\xa0 185,727 \\n     \\nLiabilities and stockholders' equity\",\n",
       " \"Liabilities and stockholders' equity    \\nCurrent liabilities:     \\nAccounts payable $\\xa0\\xa0\\xa0\\xa0\\xa0\\xa0\\xa0\\xa0\\xa0\\xa0\\xa0\\xa0\\xa0\\xa0\\xa0\\xa0\\xa0\\xa0\\xa0 4,849 $\\xa0\\xa0\\xa0\\xa0\\xa0\\xa0\\xa0\\xa0\\xa0\\xa0\\xa0\\xa0\\xa0\\xa0\\xa0\\xa0\\xa0\\xa0\\xa0 4,990 \\nPartners payable 863 1,117 \\nOperating lease liabilities, current 1,623 1,367\",\n",
       " 'Operating lease liabilities, current 1,623 1,367 \\nAccrued expenses and other current liabilities\\xa0 \\xa0 \\xa0 \\xa0 \\xa0 \\xa0 \\xa0 \\xa0 \\xa0 \\xa0 \\xa0 \\xa0 \\xa0 \\xa0 \\xa0 \\xa0 \\xa0 \\xa0 \\xa0 \\xa0 \\xa0 \\xa0 \\xa0 \\xa0 \\xa0 \\xa0 \\xa0 \\xa0 \\xa0 \\xa0 \\xa0 \\xa0 \\xa0 \\xa0 \\xa0 \\xa0 \\xa0 \\xa0 \\xa0 \\xa0 \\xa0 \\xa0 \\xa0 \\xa0 \\xa0 \\xa0 \\xa0 \\xa0 \\xa0 \\xa0 \\xa0 \\xa0 \\xa0 \\xa0 \\xa0 \\xa0 \\xa0\\xa024,625 19,552 \\nTotal current liabilities 31,960 27,026',\n",
       " \"Total current liabilities 31,960 27,026 \\nOperating lease liabilities, non-current17,226 15,301 \\nLong-term debt 18,385 9,923 \\nOther liabilities 8,884 7,764 \\nTotal liabilities 76,455 60,014 \\nCommitments and contingencies     \\nStockholders' equity:\",\n",
       " \"Stockholders' equity:     \\nCommon stock and additional paid-in capital73,253 64,444 \\nAccumulated other comprehensive loss(2,155) (3,530) \\nRetained earnings 82,070 64,799 \\nTotal stockholders' equity 153,168 125,713\",\n",
       " \"Total stockholders' equity 153,168 125,713 \\nTotal liabilities and stockholders' equity$\\xa0\\xa0\\xa0\\xa0\\xa0\\xa0\\xa0\\xa0\\xa0\\xa0\\xa0\\xa0\\xa0\\xa0\\xa0 229,623 $\\xa0\\xa0\\xa0\\xa0\\xa0\\xa0\\xa0\\xa0\\xa0\\xa0\\xa0\\xa0\\xa0\\xa0\\xa0 185,727 \\n\\xa0\\nMETA PLATFORMS, INC.CONDENSED CONSOLIDATED STATEMENTS OF CASH FLOWS(In millions)(Unaudited)\\n Three Months Ended  December 31, Twelve Months Ended  December 31,\",\n",
       " '2023 2022 2023 2022 \\nCash \\x00ows from operating activities        \\nNet income $\\xa0\\xa0\\xa0\\xa0\\xa0 14,017 $\\xa0\\xa0\\xa0\\xa0\\xa0\\xa0\\xa0\\xa0 4,652 $\\xa0\\xa0\\xa0\\xa0\\xa0 39,098 $\\xa0\\xa0\\xa0\\xa0\\xa0 23,200 \\nAdjustments to reconcile net income to net cash provided by\\xa0 operating activities:         \\nDepreciation and amortization3,172 2,376 11,178 8,686',\n",
       " 'Share-based compensation 3,424 3,008 14,027 11,992 \\nDeferred income taxes (1,161) (1,173) 131 (3,286) \\nImpairment charges for facilities consolidation, net1,091 1,805 2,432 2,218 \\nData center assets abandonment7 1,341 (224) 1,341 \\nOther 124 572 635 641 \\nChanges in assets and liabilities:',\n",
       " 'Changes in assets and liabilities:        \\nAccounts receivable (2,843) (1,698) (2,399) 231 \\nPrepaid expenses and other current assets700 854 559 162 \\nOther assets (111) 54 (80) (106) \\nAccounts payable 595 876 51 210 \\nPartners payable 76 102 (271) 90',\n",
       " 'Partners payable 76 102 (271) 90 \\nAccrued expenses and other current liabilities(350) 1,303 5,352 4,210 \\nOther liabilities 663 439 624 886 \\n6Net cash provided by operating activities19,404 14,511 71,113 50,475 \\nCash \\x00ows from investing activities',\n",
       " 'Cash \\x00ows from investing activities        \\nPurchases of property and equipment(7,665) (9,043) (27,266) (31,431) \\nProceeds relating to property and equipment73 55 221 245 \\nPurchases of marketable debt securities(1,171) (741) (2,982) (9,626)',\n",
       " 'Sales and maturities of marketable debt securities2,359 2,263 6,184 13,158 \\nAcquisitions of businesses and intangible assets(64) (62) (629) (1,312) \\nOther investing activities (4) (3) (23) (4) \\nNet cash used in investing activities(6,472) (7,531) (24,495) (28,970)',\n",
       " 'Cash \\x00ows from \\x00nancing activities        \\nTaxes paid related to net share settlement of equity awards(2,223) (656) (7,012) (3,595) \\nRepurchases of Class A common stock(5,942) (6,863) (19,774) (27,956) \\nProceeds from issuance of long-term debt, net— — 8,455 9,921',\n",
       " 'Principal payments on \\x00nance leases(307) (235) (1,058) (850) \\nOther \\x00nancing activities 71 695 (111) 344 \\nNet cash used in \\x00nancing activities(8,401) (7,059) (19,500) (22,136)',\n",
       " 'E\\x00ect of exchange rate changes on cash, cash equivalents, and restricted\\xa0cash\\xa0 \\xa0 \\xa0 \\xa0 \\xa0 \\xa0 \\xa0 \\xa0 \\xa0 \\xa0 \\xa0 \\xa0 \\xa0 \\xa0 \\xa0 \\xa0 \\xa0 \\xa0\\xa0396 424 113 (638) \\nNet increase (decrease) in cash, cash equivalents, and restricted cash4,927 345 27,231 (1,269)',\n",
       " 'Cash, cash equivalents, and restricted cash at beginning of the period37,900 15,251 15,596 16,865 \\nCash, cash equivalents, and restricted cash at end of the period$\\xa0\\xa0\\xa0\\xa0\\xa0 42,827 $\\xa0\\xa0\\xa0\\xa0\\xa0 15,596 $\\xa0\\xa0\\xa0\\xa0\\xa0 42,827 $\\xa0\\xa0\\xa0\\xa0\\xa0 15,596',\n",
       " 'Reconciliation of cash, cash equivalents, and restricted cash to the consolidated balance sheets\\xa0        \\nCash and cash equivalents $\\xa0\\xa0\\xa0\\xa0\\xa0 41,862 $\\xa0\\xa0\\xa0\\xa0\\xa0 14,681 $\\xa0\\xa0\\xa0\\xa0\\xa0 41,862 $\\xa0\\xa0\\xa0\\xa0\\xa0 14,681 \\nRestricted cash, included in prepaid expenses and other current assets99 294 99 294',\n",
       " 'Restricted cash, included in other assets866 621 866 621 \\nTotal cash, cash equivalents, and restricted cash$\\xa0\\xa0\\xa0\\xa0\\xa0 42,827 $\\xa0\\xa0\\xa0\\xa0\\xa0 15,596 $\\xa0\\xa0\\xa0\\xa0\\xa0 42,827 $\\xa0\\xa0\\xa0\\xa0\\xa0 15,596 \\n\\xa0\\nMETA PLATFORMS, INC.CONDENSED CONSOLIDATED STATEMENTS OF CASH FLOWS(In millions)(Unaudited)',\n",
       " 'Three Months Ended  December 31, Twelve Months Ended December 31, \\n 2023 2022 2023 2022 \\nSupplemental cash \\x00ow data        \\nCash paid for income taxes, net$\\xa0\\xa0\\xa0\\xa0\\xa0\\xa0\\xa0\\xa0 4,591 $\\xa0\\xa0\\xa0\\xa0\\xa0\\xa0\\xa0\\xa0 1,760 $\\xa0\\xa0\\xa0\\xa0\\xa0\\xa0\\xa0\\xa0 6,607 $\\xa0\\xa0\\xa0\\xa0\\xa0\\xa0\\xa0\\xa0 6,407',\n",
       " 'Cash paid for interest, net of amounts capitalized$\\xa0\\xa0\\xa0\\xa0\\xa0\\xa0\\xa0\\xa0\\xa0\\xa0\\xa0 146 $\\xa0\\xa0\\xa0\\xa0\\xa0\\xa0\\xa0\\xa0\\xa0\\xa0\\xa0\\xa0\\xa0 — $\\xa0\\xa0\\xa0\\xa0\\xa0\\xa0\\xa0\\xa0\\xa0\\xa0\\xa0 448 $\\xa0\\xa0\\xa0\\xa0\\xa0\\xa0\\xa0\\xa0\\xa0\\xa0\\xa0\\xa0\\xa0 — \\nNon-cash investing and \\x00nancing activities:',\n",
       " 'Property and equipment in accounts payable and accrued expenses\\xa0and other current liabilities\\xa0 \\xa0 \\xa0\\xa0$\\xa0\\xa0\\xa0\\xa0\\xa0\\xa0\\xa0\\xa0 4,105 $\\xa0\\xa0\\xa0\\xa0\\xa0\\xa0\\xa0\\xa0 3,319 $\\xa0\\xa0\\xa0\\xa0\\xa0\\xa0\\xa0\\xa0 4,105 $\\xa0\\xa0\\xa0\\xa0\\xa0\\xa0\\xa0\\xa0 3,319',\n",
       " 'Acquisition of businesses in accrued expenses and other current\\xa0liabilities and other liabilities$\\xa0\\xa0\\xa0\\xa0\\xa0\\xa0\\xa0\\xa0\\xa0\\xa0\\xa0 119 $\\xa0\\xa0\\xa0\\xa0\\xa0\\xa0\\xa0\\xa0\\xa0\\xa0\\xa0 291 $\\xa0\\xa0\\xa0\\xa0\\xa0\\xa0\\xa0\\xa0\\xa0\\xa0\\xa0 119 $\\xa0\\xa0\\xa0\\xa0\\xa0\\xa0\\xa0\\xa0\\xa0\\xa0\\xa0 291',\n",
       " 'Repurchases of Class A common stock in accrued expenses and\\xa0other current liabilities$\\xa0\\xa0\\xa0\\xa0\\xa0\\xa0\\xa0\\xa0\\xa0\\xa0\\xa0 474 $\\xa0\\xa0\\xa0\\xa0\\xa0\\xa0\\xa0\\xa0\\xa0\\xa0\\xa0 310 $\\xa0\\xa0\\xa0\\xa0\\xa0\\xa0\\xa0\\xa0\\xa0\\xa0\\xa0 474 $\\xa0\\xa0\\xa0\\xa0\\xa0\\xa0\\xa0\\xa0\\xa0\\xa0\\xa0 310 \\nSegment Results\\nWe report our \\x00nancial results for our two reportable segments: Family of Apps (FoA) and Reality Labs (RL). FoA',\n",
       " 'includes Facebook, Instagram, Messenger, WhatsApp, and other services. RL includes augmented, mixed, and\\nvirtual reality related consumer hardware, software, and content.\\nThe following table presents our segment information of revenue and income (loss) from operations:',\n",
       " 'Segment Information(In millions)(Unaudited)\\n Three MonthsEnded\\xa0December 31, Twelve MonthsEnded\\xa0December 31, \\n 2023 2022 2023 2022 \\nRevenue:         \\n7Advertising $\\xa0\\xa0\\xa0\\xa0\\xa0\\xa0\\xa0\\xa0\\xa0\\xa0 38,706 $\\xa0 \\xa0 \\xa0 \\xa0 \\xa0 \\xa0 31,254 $\\xa0 \\xa0 \\xa0 \\xa0 \\xa0 131,948 $\\xa0\\xa0\\xa0\\xa0\\xa0\\xa0\\xa0\\xa0 113,642 \\nOther revenue 334 184 1,058 808',\n",
       " 'Other revenue 334 184 1,058 808 \\nFamily of Apps 39,040 31,438 133,006 114,450 \\nReality Labs 1,071 727 1,896 2,159 \\nTotal revenue $\\xa0\\xa0\\xa0\\xa0\\xa0\\xa0\\xa0\\xa0\\xa0\\xa0 40,111 $\\xa0 \\xa0 \\xa0 \\xa0 \\xa0 \\xa0 32,165 $\\xa0 \\xa0 \\xa0 \\xa0 \\xa0 134,902 $\\xa0\\xa0\\xa0\\xa0\\xa0\\xa0\\xa0\\xa0 116,609 \\n         \\nIncome (loss) from operations:',\n",
       " 'Income (loss) from operations:        \\nFamily of Apps $\\xa0\\xa0\\xa0\\xa0\\xa0\\xa0\\xa0\\xa0\\xa0\\xa0 21,030 $\\xa0 \\xa0 \\xa0 \\xa0 \\xa0 \\xa0 10,678 $\\xa0 \\xa0 \\xa0 \\xa0 \\xa0 \\xa0 62,871 $\\xa0\\xa0\\xa0\\xa0\\xa0\\xa0\\xa0\\xa0\\xa0\\xa0 42,661 \\nReality Labs (4,646) (4,279) (16,120) (13,717)',\n",
       " 'Reality Labs (4,646) (4,279) (16,120) (13,717) \\nTotal income from operations\\xa0 \\xa0 \\xa0 \\xa0 \\xa0 \\xa0 \\xa0 \\xa0 \\xa0 \\xa0 \\xa0 \\xa0 \\xa0 \\xa0 \\xa0 \\xa0 \\xa0 \\xa0 \\xa0 \\xa0 \\xa0 \\xa0 \\xa0 \\xa0 \\xa0 \\xa0 \\xa0 \\xa0 \\xa0 \\xa0 \\xa0 \\xa0 \\xa0 \\xa0 \\xa0 \\xa0 \\xa0 \\xa0 \\xa0 \\xa0$\\xa0\\xa0\\xa0\\xa0\\xa0\\xa0\\xa0\\xa0\\xa0\\xa0 16,384 $\\xa0\\xa0\\xa0\\xa0\\xa0\\xa0\\xa0\\xa0\\xa0\\xa0\\xa0\\xa0\\xa0 6,399 $\\xa0 \\xa0 \\xa0 \\xa0 \\xa0 \\xa0 46,751 $\\xa0\\xa0\\xa0\\xa0\\xa0\\xa0\\xa0\\xa0\\xa0\\xa0 28,944',\n",
       " 'Reconciliation of GAAP to Non-GAAP Results(In millions, except percentages)(Unaudited)\\n Three Months Ended  December 31, Twelve Months Ended  December 31, \\n 2023 2022 2023 2022 \\nGAAP revenue $\\xa0 \\xa0 \\xa0 \\xa0 \\xa0 \\xa040,111 $\\xa0 \\xa0 \\xa0 \\xa0 \\xa0 \\xa0 32,165 $\\xa0 \\xa0 \\xa0 \\xa0 \\xa0 \\xa0134,902 $\\xa0 \\xa0 \\xa0 \\xa0 \\xa0 116,609',\n",
       " 'Foreign exchange e\\x00ect on 2023 revenue using 2022 rates(816)   (374)   \\nRevenue excluding foreign exchange e\\x00ect$\\xa0 \\xa0 \\xa0 \\xa0 \\xa0 \\xa039,295   $\\xa0 \\xa0 \\xa0 \\xa0 \\xa0 \\xa0134,528   \\nGAAP revenue year-over-year change %25\\xa0%   16\\xa0%   \\nRevenue excluding foreign exchange e\\x00ect year-over-year change %22\\xa0%   15\\xa0%',\n",
       " 'GAAP advertising revenue$\\xa0 \\xa0 \\xa0 \\xa0 \\xa0 \\xa038,706 $\\xa0 \\xa0 \\xa0 \\xa0 \\xa0 \\xa0 31,254 $\\xa0 \\xa0 \\xa0 \\xa0 \\xa0 \\xa0131,948 $\\xa0 \\xa0 \\xa0 \\xa0 \\xa0 113,642 \\nForeign exchange e\\x00ect on 2023 advertising revenue using 2022 rates \\xa0 \\xa0\\xa0 \\xa0 \\xa0\\xa0(809)   (379)   \\nAdvertising revenue excluding foreign exchange e\\x00ect$\\xa0 \\xa0 \\xa0 \\xa0 \\xa0 \\xa037,897   $\\xa0 \\xa0 \\xa0 \\xa0 \\xa0 \\xa0131,569',\n",
       " 'GAAP advertising revenue year-over-year change %24\\xa0%   16\\xa0%   \\nAdvertising revenue excluding foreign exchange e\\x00ect year-over-year change % \\xa0 \\xa0 \\xa021\\xa0%   16\\xa0%   \\n         \\nNet cash provided by operating activities$\\xa0 \\xa0 \\xa0 \\xa0 \\xa0 \\xa019,404 $\\xa0 \\xa0 \\xa0 \\xa0 \\xa0 \\xa0 14,511 $\\xa0 \\xa0 \\xa0 \\xa0 \\xa0 \\xa0 \\xa071,113 $\\xa0 \\xa0 \\xa0 \\xa0 \\xa0 \\xa0 50,475',\n",
       " 'Purchases of property and equipment, net(7,592) (8,988) (27,045) (31,186) \\nPrincipal payments on \\x00nance leases(307) (235) (1,058) (850) \\nFree cash \\x00ow $\\xa0 \\xa0 \\xa0 \\xa0 \\xa0 \\xa011,505 $\\xa0 \\xa0 \\xa0 \\xa0 \\xa0 \\xa0 \\xa0 5,288 $\\xa0 \\xa0 \\xa0 \\xa0 \\xa0 \\xa0 \\xa043,010 $\\xa0 \\xa0 \\xa0 \\xa0 \\xa0 \\xa0 18,439',\n",
       " 'View original content to download multimedia:https://www.prnewswire.com/news-releases/meta-reports-fourth-\\nquarter-and-full-year-2023-results-initiates-quarterly-dividend-302051285.html\\nSOURCE Meta\\n8']"
      ]
     },
     "execution_count": 53,
     "metadata": {},
     "output_type": "execute_result"
    }
   ],
   "source": [
    "text_splitter = CharacterTextSplitter(\n",
    "    separator=\"\\n\",\n",
    "    chunk_size=300,\n",
    "    chunk_overlap=50,\n",
    "    length_function=len\n",
    ")\n",
    "chunks = text_splitter.split_text(text)\n",
    "\n",
    "print(f\"Split PDF content into {len(chunks)} chunks.\")\n",
    "chunks"
   ]
  },
  {
   "cell_type": "markdown",
   "metadata": {},
   "source": [
    "# 5: Create embeddings and FAISS retriever with API key as a variable\n"
   ]
  },
  {
   "cell_type": "code",
   "execution_count": null,
   "metadata": {
    "colab": {
     "base_uri": "https://localhost:8080/"
    },
    "id": "yIu37Fxy6Ywk",
    "outputId": "298210e4-9581-48d3-c824-0f24d210c4fe"
   },
   "outputs": [
    {
     "name": "stdout",
     "output_type": "stream",
     "text": [
      "FAISS retriever created.\n"
     ]
    }
   ],
   "source": [
    "\n",
    "embeddings = OpenAIEmbeddings(openai_api_key='Your Key here')\n",
    "knowledge_base = FAISS.from_texts(chunks, embeddings)\n",
    "retriever = knowledge_base.as_retriever(search_type=\"similarity\", search_kwargs={\"k\": 5})\n",
    "\n",
    "print(\"FAISS retriever created.\")\n",
    "\n"
   ]
  },
  {
   "cell_type": "code",
   "execution_count": 55,
   "metadata": {
    "id": "Jil2oMhDR14o"
   },
   "outputs": [],
   "source": [
    "from langchain.chat_models import ChatOpenAI\n"
   ]
  },
  {
   "cell_type": "markdown",
   "metadata": {},
   "source": [
    "# 6: Initialize RAG model\n"
   ]
  },
  {
   "cell_type": "code",
   "execution_count": null,
   "metadata": {
    "colab": {
     "base_uri": "https://localhost:8080/"
    },
    "id": "z0dFsgmg6jao",
    "outputId": "90a147f1-da4e-4186-f4b7-40d1612ff156"
   },
   "outputs": [
    {
     "name": "stdout",
     "output_type": "stream",
     "text": [
      "RAG model initialized.\n"
     ]
    }
   ],
   "source": [
    "llm = ChatOpenAI(model=\"gpt-4\",temperature=0,openai_api_key='Your Key Here')\n",
    "prompt_template = PromptTemplate(\n",
    "    input_variables=[\"context\", \"question\"],\n",
    "    template=(\n",
    "        \"Use the context below to answer the question concisely and with detailed accuracy.\\n\\n\"\n",
    "        \"Context:\\n{context}\\n\\n\"\n",
    "        \"Question:\\n{question}\\n\\n\"\n",
    "        \"Answer (be specific and quantitative):\"\n",
    "    )\n",
    ")\n",
    "\n",
    "\n",
    "qa_chain = RetrievalQA.from_chain_type(\n",
    "    llm=llm,\n",
    "    chain_type=\"stuff\",\n",
    "    retriever=retriever,\n",
    "    return_source_documents=True,\n",
    "    chain_type_kwargs={\"prompt\": prompt_template}\n",
    ")\n",
    "\n",
    "print(\"RAG model initialized.\")\n"
   ]
  },
  {
   "cell_type": "markdown",
   "metadata": {},
   "source": [
    "# 7: Prompt user for input and generate response\n"
   ]
  },
  {
   "cell_type": "code",
   "execution_count": null,
   "metadata": {
    "colab": {
     "base_uri": "https://localhost:8080/"
    },
    "id": "ik79_OGI6mIw",
    "outputId": "0da21ec4-c0d6-4262-843a-d0092ee438b0"
   },
   "outputs": [
    {
     "name": "stdout",
     "output_type": "stream",
     "text": [
      "\n",
      "**Response:** Meta's workforce decreased by 22% by the end of 2023, with a headcount of 67,317.\n",
      "\n",
      "**Source Documents:**\n",
      "NEWS RELEASE\n",
      "Meta Reports Fourth Quarter and Full Year 2023Results; Initiates Quarterly Dividend\n",
      "MENLO PARK, Calif., Feb. 1, 2024 /PRNewswire/ -- Meta Platforms, Inc. (Nasdaq: META) today reported \u0000nancial\n",
      "results for the quarter and full year ended December 31, 2023.\n",
      "look to build on our progress in each of those areas in 2024 while advancing our ambitious, longer-term e\u0000orts in\n",
      "AI and Reality Labs.\n",
      "Webcast and Conference Call Information\n",
      "Meta will host a conference call to discuss the results at 1:30 p.m. PT / 4:30 p.m. ET today. The live webcast of\n",
      "Headcount – Headcount was 67,317 as of December 31, 2023, a decrease of 22% year-over-year.\n",
      "Meta Initiates Quarterly Dividend\n",
      "Today, Meta's board of directors declared a cash dividend of $0.50 per share of our outstanding common stock\n",
      "View original content to download multimedia:https://www.prnewswire.com/news-releases/meta-reports-fourth-\n",
      "quarter-and-full-year-2023-results-initiates-quarterly-dividend-302051285.html\n",
      "SOURCE Meta\n",
      "8\n",
      "\"We had a good quarter as our community and business continue to grow,\" said Mark Zuckerberg, Meta founder\n",
      "and CEO. \"We've made a lot of progress on our vision for advancing AI and the metaverse.\" \n",
      " \n",
      "Fourth Quarter and Full Year 2023 Financial Highlights\n",
      " Three Months Ended December 31, \n",
      " % Change\n"
     ]
    }
   ],
   "source": [
    "user_question = \"How did Meta’s workforce change by the end of 2023?\"\n",
    "\n",
    "if user_question:\n",
    "    result = qa_chain({\"query\": user_question})\n",
    "    response = result[\"result\"]  # Extract the generated response\n",
    "    source_documents = result[\"source_documents\"]  # Retrieved chunks\n",
    "\n",
    "    print(f\"\\n**Response:** {response}\")\n",
    "    print(\"\\n**Source Documents:**\")\n",
    "    for doc in source_documents:\n",
    "        print(doc.page_content)\n"
   ]
  },
  {
   "cell_type": "markdown",
   "metadata": {},
   "source": [
    "# 8: Evaluate response with ROUGE\n"
   ]
  },
  {
   "cell_type": "code",
   "execution_count": null,
   "metadata": {
    "colab": {
     "base_uri": "https://localhost:8080/"
    },
    "id": "xyQC-qEk6sPK",
    "outputId": "8f0a09e4-2990-4514-d3a8-977291feb922"
   },
   "outputs": [
    {
     "name": "stdout",
     "output_type": "stream",
     "text": [
      "\n",
      "**ROUGE Scores:**\n",
      "ROUGE-1: Score(precision=0.6470588235294118, recall=0.3793103448275862, fmeasure=0.4782608695652174)\n",
      "ROUGE-2: Score(precision=0.3125, recall=0.17857142857142858, fmeasure=0.22727272727272727)\n",
      "ROUGE-L: Score(precision=0.4117647058823529, recall=0.2413793103448276, fmeasure=0.3043478260869565)\n",
      "Metrics logged.\n"
     ]
    }
   ],
   "source": [
    "reference_answer = \"By the end of 2023, Meta had 67,317 employees. In 2022, Meta had 87,314 employees, so Meta had a 22.9% decrease in 2023 compared to 2022.\"\n",
    "\n",
    "if reference_answer:\n",
    "    scorer = rouge_scorer.RougeScorer(['rouge1', 'rouge2', 'rougeL'], use_stemmer=True)\n",
    "    scores = scorer.score(reference_answer, response)\n",
    "\n",
    "    print(\"\\n**ROUGE Scores:**\")\n",
    "    print(f\"ROUGE-1: {scores['rouge1']}\")\n",
    "    print(f\"ROUGE-2: {scores['rouge2']}\")\n",
    "    print(f\"ROUGE-L: {scores['rougeL']}\")\n",
    "\n",
    "    # Log metrics for improvement\n",
    "    with open(\"rag_metrics_log.txt\", \"a\") as log_file:\n",
    "        log_file.write(f\"User Question: {user_question}\\n\")\n",
    "        log_file.write(f\"Reference Answer: {reference_answer}\\n\")\n",
    "        log_file.write(f\"Response: {response}\\n\")\n",
    "        log_file.write(f\"ROUGE-1: {scores['rouge1']}\\n\")\n",
    "        log_file.write(f\"ROUGE-2: {scores['rouge2']}\\n\")\n",
    "        log_file.write(f\"ROUGE-L: {scores['rougeL']}\\n\")\n",
    "        log_file.write(\"\\n\" + \"-\"*50 + \"\\n\")\n",
    "\n",
    "    print(\"Metrics logged.\")\n"
   ]
  },
  {
   "cell_type": "markdown",
   "metadata": {},
   "source": [
    "## Question 2"
   ]
  },
  {
   "cell_type": "code",
   "execution_count": 48,
   "metadata": {
    "colab": {
     "base_uri": "https://localhost:8080/"
    },
    "id": "8Jjqc0s2Ft9l",
    "outputId": "a5b5142c-3342-4a55-95e5-f2e7393fc862"
   },
   "outputs": [
    {
     "name": "stdout",
     "output_type": "stream",
     "text": [
      "\n",
      "**Response:** \n",
      "The report quarter is the fourth quarter of 2023, which ended on December 31, 2023.\n",
      "\n",
      "**Source Documents:**\n"
     ]
    }
   ],
   "source": [
    "user_question2 = \"What is the report quarter, and when did it end?\"\n",
    "\n",
    "if user_question2:\n",
    "    result = qa_chain({\"query\": user_question2})\n",
    "    response = result[\"result\"]\n",
    "    source_documents = result[\"source_documents\"]\n",
    "\n",
    "    print(f\"\\n**Response:** {response}\")\n",
    "    print(\"\\n**Source Documents:**\")"
   ]
  },
  {
   "cell_type": "code",
   "execution_count": 49,
   "metadata": {
    "colab": {
     "base_uri": "https://localhost:8080/"
    },
    "id": "n5_yj_s0GBbP",
    "outputId": "0b19ec1f-7495-47b0-b663-13c2802abe69"
   },
   "outputs": [
    {
     "name": "stdout",
     "output_type": "stream",
     "text": [
      "\n",
      "**ROUGE Scores:**\n",
      "ROUGE-1: Score(precision=0.9333333333333333, recall=0.875, fmeasure=0.9032258064516129)\n",
      "ROUGE-2: Score(precision=0.8571428571428571, recall=0.8, fmeasure=0.8275862068965518)\n",
      "ROUGE-L: Score(precision=0.9333333333333333, recall=0.875, fmeasure=0.9032258064516129)\n",
      "Metrics logged.\n"
     ]
    }
   ],
   "source": [
    "# Chunk 8: Evaluate response with ROUGE\n",
    "reference_answer2 = \"The reported quarter is the fourth quarter of 2023, The quarter ended on December 31, 2023.\"\n",
    "\n",
    "if reference_answer2:\n",
    "    scorer = rouge_scorer.RougeScorer(['rouge1', 'rouge2', 'rougeL'], use_stemmer=True)\n",
    "    scores = scorer.score(reference_answer2, response)\n",
    "\n",
    "    print(\"\\n**ROUGE Scores:**\")\n",
    "    print(f\"ROUGE-1: {scores['rouge1']}\")\n",
    "    print(f\"ROUGE-2: {scores['rouge2']}\")\n",
    "    print(f\"ROUGE-L: {scores['rougeL']}\")\n",
    "\n",
    "    # Log metrics for improvement\n",
    "    with open(\"rag_metrics_log.txt\", \"a\") as log_file:\n",
    "        log_file.write(f\"User Question: {user_question}\\n\")\n",
    "        log_file.write(f\"Reference Answer: {reference_answer2}\\n\")\n",
    "        log_file.write(f\"Response: {response}\\n\")\n",
    "        log_file.write(f\"ROUGE-1: {scores['rouge1']}\\n\")\n",
    "        log_file.write(f\"ROUGE-2: {scores['rouge2']}\\n\")\n",
    "        log_file.write(f\"ROUGE-L: {scores['rougeL']}\\n\")\n",
    "        log_file.write(\"\\n\" + \"-\"*50 + \"\\n\")\n",
    "\n",
    "    print(\"Metrics logged.\")\n"
   ]
  },
  {
   "cell_type": "markdown",
   "metadata": {},
   "source": [
    "# Array of questions\n"
   ]
  },
  {
   "cell_type": "code",
   "execution_count": null,
   "metadata": {
    "colab": {
     "base_uri": "https://localhost:8080/"
    },
    "id": "jaFsZwFY_KUW",
    "outputId": "cb934505-acf2-483f-84c5-30617d32c93d"
   },
   "outputs": [
    {
     "name": "stdout",
     "output_type": "stream",
     "text": [
      "Question 1: What were the key financial highlights this quarter (revenue, gross margin, operating expenses, operating margin, net income, and EPS)?\n",
      "Response: \n",
      "The key financial highlights for this quarter were:\n",
      "\n",
      "1. Revenue: $16.38 billion, an increase of 156% compared to the same period last year.\n",
      "\n",
      "2. Gross margin: 41%, an increase of 21 percentage points compared to the same period last year.\n",
      "\n",
      "3. Operating expenses: $23.73 billion, an increase of 22% compared to the same period last year.\n",
      "\n",
      "4. Operating margin: 41%, an increase of 21 percentage points compared to the same period last year.\n",
      "\n",
      "5. Net income: $14.02 billion, an increase of 201% compared to the same period last year.\n",
      "\n",
      "6. EPS: $4.65, an increase of 201% compared to the same period last year.\n",
      "\n",
      "Question 2: How much did Meta spend on restructuring for the whole year and Q4?\n",
      "Response: \n",
      "Meta spent $3.45 billion on restructuring charges for the full year 2023 and $1.15 billion for the fourth quarter of 2023.\n",
      "\n",
      "Question 3: What happened with Meta’s ad impressions and average price per ad in Q4 and for the whole year?\n",
      "Response: \n",
      "In the fourth quarter of 2023, Meta's ad impressions increased by 28% year-over-year, while the average price per ad decreased by 9% year-over-year. For the full year 2023, ad impressions increased by 21% year-over-year and the average price per ad increased by 2% year-over-year.\n",
      "\n",
      "Question 4: What’s the revenue outlook for Q1 2024?\n",
      "Response: \n",
      "The revenue outlook for Q1 2024 is expected to be in the range of $34.5-37 billion, according to the CFO's commentary. This represents a year-over-year increase of approximately 9-18%, based on the reported revenue of $40.11 billion for Q4 2023 and $134.90 billion for the full year 2023. However, this outlook is subject to change based on foreign exchange rates and potential changes to U.S. tax law.\n",
      "\n",
      "Question 5: What were Meta’s total costs and expenses for Q4 and the full year 2023?\n",
      "Response: \n",
      "Meta's total costs and expenses for Q4 2023 were $23.73 billion and for the full year 2023 were $88.15 billion. This represents a decrease of 8% for Q4 and an increase of 1% year-over-year for the full year. Additionally, restructuring charges included in costs and expenses were $1.15 billion for Q4 and $3.45 billion for the full year.\n",
      "\n",
      "Question 6: How much cash and marketable securities did Meta have on hand as of December 31, 2023?\n",
      "Response: \n",
      "As of December 31, 2023, Meta had a total of $65,403 million in cash, cash equivalents, and marketable securities ($41,862 million in cash and $23,541 million in marketable securities).\n",
      "\n",
      "Question 7: What were the main areas Meta invested in during 2023?\n",
      "Response: \n",
      "In 2023, Meta invested in advancing their efforts in AI and Reality Labs, as well as making progress on their vision for the metaverse. They also reported a \u0000nancial growth of 8% in the fourth quarter and full year ended December 31, 2023.\n",
      "\n",
      "Question 8: How did the Family of Apps and Reality Labs perform in Q4 2023?\n",
      "Response: \n",
      "In Q4 2023, the Family of Apps had a total revenue of $40,111, an increase of 26.6% from the previous quarter. They also had an income from operations of $21,030, an increase of 96.2% from the previous quarter. On the other hand, Reality Labs had a total revenue of $1,071, an increase of 48.4% from the previous quarter. However, they had an operating loss of $4,646, an increase of 8.5% from the previous quarter. Overall, the Family of Apps performed significantly better than Reality Labs in Q4 2023.\n",
      "\n",
      "Question 9: How much free cash flow did Meta generate in Q4 and the full year 2023?\n",
      "Response: \n",
      "Meta generated $11.50 billion in free cash flow in Q4 and $43.01 billion in free cash flow for the full year 2023.\n",
      "\n",
      "Question 10: Did Meta make any changes to its stock repurchase program or dividends for 2024?\n",
      "Response: \n",
      "Yes, Meta announced that it initiated a quarterly dividend of $0.50 per share of its outstanding common stock and repurchased $6.32 billion and $20.03 billion of its Class A common stock in the fourth quarter and full year 2023, respectively. As of December 31, 2023, they had $30.93 billion available for future repurchases.\n",
      "\n",
      "Question 11: What risks did Meta highlight for 2024?\n",
      "Response: \n",
      "Meta highlighted potential risks for 2024 in their \"Risk Factors\" section of their Quarterly Report on Form 10-Q filed with the SEC on October 26, 2023. These risks include potential challenges in advancing their ambitious, longer-term efforts in AI and Reality Labs, as well as potential challenges in building on their progress in other areas. They also mentioned potential risks related to their business plans and expectations, which could impact their financial results for the year.\n",
      "\n",
      "Question 12: What drove Meta’s revenue growth in Q4 2023?\n",
      "Response: \n",
      "Meta's revenue growth in Q4 2023 was driven by a 25% increase in revenue, reaching $40.11 billion, and a 16% increase in revenue for the full year 2023, reaching $134.90 billion. This growth was primarily due to the continued growth of the community and business, as well as progress made in advancing AI and the metaverse. Additionally, foreign exchange rates remaining constant with the same period in the previous year also contributed to the revenue growth.\n",
      "\n",
      "Question 13: How did Reality Labs perform throughout 2023, and what’s Meta’s plan for 2024?\n",
      "Response: \n",
      "Throughout 2023, Reality Labs experienced an increase in operating losses due to ongoing product development efforts in augmented reality/virtual reality and investments to further scale their ecosystem. This resulted in a meaningful year-over-year increase in operating losses. In 2024, Meta plans to continue investing in Reality Labs and advancing their ambitious, longer-term efforts in AI and Reality Labs. They also plan to build on their progress in each of these areas and expect operating losses to continue to increase.\n",
      "\n"
     ]
    }
   ],
   "source": [
    "questions = [\n",
    "    \"What were the key financial highlights this quarter (revenue, gross margin, operating expenses, operating margin, net income, and EPS)?\",\n",
    "    \"How much did Meta spend on restructuring for the whole year and Q4?\",\n",
    "    \"What happened with Meta’s ad impressions and average price per ad in Q4 and for the whole year?\",\n",
    "    \"What’s the revenue outlook for Q1 2024?\",\n",
    "    \"What were Meta’s total costs and expenses for Q4 and the full year 2023?\",\n",
    "    \"How much cash and marketable securities did Meta have on hand as of December 31, 2023?\",\n",
    "    \"What were the main areas Meta invested in during 2023?\",\n",
    "    \"How did the Family of Apps and Reality Labs perform in Q4 2023?\",\n",
    "    \"How much free cash flow did Meta generate in Q4 and the full year 2023?\",\n",
    "    \"Did Meta make any changes to its stock repurchase program or dividends for 2024?\",\n",
    "    \"What risks did Meta highlight for 2024?\",\n",
    "    \"What drove Meta’s revenue growth in Q4 2023?\",\n",
    "    \"How did Reality Labs perform throughout 2023, and what’s Meta’s plan for 2024?\"\n",
    "]\n",
    "\n",
    "# Process each question\n",
    "for i, question in enumerate(questions, 1):\n",
    "    print(f\"Question {i}: {question}\")\n",
    "    result = qa_chain({\"query\": question})\n",
    "    response = result[\"result\"]\n",
    "    print(f\"Response: {response}\\n\")\n"
   ]
  },
  {
   "cell_type": "markdown",
   "metadata": {},
   "source": [
    "# Results\n",
    "\n",
    "### Question 1: \n",
    "1. ROUGE-1: Score(precision=0.6470588235294118, recall=0.3793103448275862, fmeasure=0.4782608695652174)\n",
    "2. ROUGE-2: Score(precision=0.3125, recall=0.17857142857142858, fmeasure=0.22727272727272727)\n",
    "3. ROUGE-L: Score(precision=0.4117647058823529, recall=0.2413793103448276, fmeasure=0.3043478260869565)\n",
    "### Question 2:\n",
    "1. ROUGE-1: Score(precision=0.9333333333333333, recall=0.875, fmeasure=0.9032258064516129)\n",
    "2. ROUGE-2: Score(precision=0.8571428571428571, recall=0.8, fmeasure=0.8275862068965518)\n",
    "3. ROUGE-L: Score(precision=0.9333333333333333, recall=0.875, fmeasure=0.9032258064516129)"
   ]
  },
  {
   "cell_type": "markdown",
   "metadata": {},
   "source": []
  }
 ],
 "metadata": {
  "colab": {
   "provenance": []
  },
  "kernelspec": {
   "display_name": "Python 3",
   "name": "python3"
  },
  "language_info": {
   "name": "python"
  }
 },
 "nbformat": 4,
 "nbformat_minor": 0
}
